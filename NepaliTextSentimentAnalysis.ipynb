{
  "nbformat": 4,
  "nbformat_minor": 0,
  "metadata": {
    "colab": {
      "provenance": []
    },
    "kernelspec": {
      "name": "python3",
      "display_name": "Python 3"
    },
    "language_info": {
      "name": "python"
    }
  },
  "cells": [
    {
      "cell_type": "code",
      "execution_count": 1,
      "metadata": {
        "colab": {
          "base_uri": "https://localhost:8080/"
        },
        "id": "zd4iP-N064Fb",
        "outputId": "3bb12871-6ddf-4d3f-d4da-a8ab68b26862"
      },
      "outputs": [
        {
          "output_type": "stream",
          "name": "stdout",
          "text": [
            "Requirement already satisfied: requests in /usr/local/lib/python3.10/dist-packages (2.32.3)\n",
            "Requirement already satisfied: beautifulsoup4 in /usr/local/lib/python3.10/dist-packages (4.12.3)\n",
            "Requirement already satisfied: charset-normalizer<4,>=2 in /usr/local/lib/python3.10/dist-packages (from requests) (3.4.0)\n",
            "Requirement already satisfied: idna<4,>=2.5 in /usr/local/lib/python3.10/dist-packages (from requests) (3.10)\n",
            "Requirement already satisfied: urllib3<3,>=1.21.1 in /usr/local/lib/python3.10/dist-packages (from requests) (2.2.3)\n",
            "Requirement already satisfied: certifi>=2017.4.17 in /usr/local/lib/python3.10/dist-packages (from requests) (2024.8.30)\n",
            "Requirement already satisfied: soupsieve>1.2 in /usr/local/lib/python3.10/dist-packages (from beautifulsoup4) (2.6)\n"
          ]
        }
      ],
      "source": [
        "!pip install requests beautifulsoup4\n"
      ]
    },
    {
      "cell_type": "code",
      "source": [
        "import requests\n",
        "from bs4 import BeautifulSoup\n",
        "import re"
      ],
      "metadata": {
        "id": "L-hsZeOd7C9a"
      },
      "execution_count": 23,
      "outputs": []
    },
    {
      "cell_type": "code",
      "source": [
        "import requests\n",
        "from bs4 import BeautifulSoup\n",
        "\n",
        "# URL to scrape\n",
        "url = 'https://www.onlinekhabar.com/2024/10/1555761/why-is-an-open-debate-about-sex-education-inevitable-in-society'\n",
        "\n",
        "# Send GET request to the URL\n",
        "response = requests.get(url)\n",
        "if response.status_code == 200:\n",
        "    soup = BeautifulSoup(response.content, 'html.parser')\n",
        "\n",
        "    # Extracting the title\n",
        "    title = soup.find('h1').text.strip()\n",
        "    print(f\"Title: {title}\")\n",
        "\n",
        "    # Extracting paragraphs\n",
        "    paragraphs = soup.find_all('p')\n",
        "    news_content = []\n",
        "    for paragraph in paragraphs:\n",
        "        content = paragraph.text.strip()\n",
        "        if content:\n",
        "            news_content.append(content)\n",
        "\n",
        "    # Print all paragraphs except specific indices (0, 1, 27, 28, 29, 30, 31, 32, 33, 34, 35)\n",
        "    for idx in range(len(news_content)):\n",
        "        if idx in {0, 1, 27, 28, 29, 30, 31, 32, 33, 34, 35}:  # Adjusting for 0-indexing\n",
        "            continue\n",
        "        print(f\"Paragraph {idx + 1}: {news_content[idx]}\")  # Use idx + 1 for 1-indexed output\n",
        "\n",
        "else:\n",
        "    print(f\"Failed to retrieve the data, status code: {response.status_code}\")\n"
      ],
      "metadata": {
        "colab": {
          "base_uri": "https://localhost:8080/"
        },
        "id": "zpluIK0E7UBt",
        "outputId": "817afb24-c73f-4bfa-aeab-f1d888c85f50"
      },
      "execution_count": 42,
      "outputs": [
        {
          "output_type": "stream",
          "name": "stdout",
          "text": [
            "Title: समाजमा यौन शिक्षाबारे खुला बहस किन अपरिहार्य छ ?\n",
            "Paragraph 3: नेपालमा अझै पनि यौनका विषयलाई केवल अश्लीलताको दृष्टिले मात्र हेरिन्छ । तर यहाँका भूगोलभित्र रहेका यौन आचरण र व्यवहारलाई प्राय: नजरअन्दाज गरिएको छ । नेपाललाई एक सूत्रमा बाँध्ने नाममा बनाइने नियम कानुनले प्राय: काठमाडौ उपत्यका र केही विकसित सहरहरुको अवस्थालाई आधार मानेर निर्माण गरिएको देखिन्छ । देशका भिन्न भिन्न क्षेत्रमा रहेका फरक संस्कार र परिस्थितिलाई भने बेवास्ता गरिएको पाइन्छ ।\n",
            "Paragraph 4: यौन र वैवाहिक प्रणाली एकअर्कासँग गहिरो रूपमा जोडिएका छन् । यौन क्रियाकलापलाई वैधानिक बनाउन नै विवाहको संस्था वा संस्कारको विकास भएको देखिन्छ । विवाहपछि पारिवारिक उतारचढावका कारण पारपाचुके तथा दोस्रो वा तेस्रो विवाहलाई कानुनी रूपमा केही सीमासहित मान्यता दिइए पनि सामाजिक रूपमा यसलाई आलोचनात्मक दृष्टिले हेर्ने र कानेखुसी गर्ने चलन अझै कायम छ ।\n",
            "Paragraph 5: मानिस स्वतन्त्र र विवेकी प्राणी हो । त्यसैले उसले सामाजिक रूपमा समाजले निर्धारण गरेका सीमाभित्र रहनुपर्छ । धर्म, परम्परा र चलन हुँदै वर्तमानमा कानुनी रूपमा यी व्यवहारलाई लागू गरिएको छ । सिन्धु सभ्यताबाट आएका आर्य समुदायमा एक प्रकारको संस्कारको विकास भयो भने मंगोल समुदायमा फरक संस्कार देखा पर्‍यो ।\n",
            "Paragraph 6: नेपालका केही ग्रामीण क्षेत्रमा अझै पनि बहुपति र बहुपत्नी प्रथा कायम रहेको पाइन्छ । यो प्रथा केवल जग्गा, जमिन र घरबासको अभावका कारण मात्र रहेको हो या यसको अन्य सामाजिक कारण पनि छन्, भन्ने विषयमा अझै गहिरो अध्ययन आवश्यक छ । विभिन्न कारणहरूका बाबजुद यी परम्पराहरूले समाजमा प्रभाव पारिरहेका छन् र यसको सामाजिक, सांस्कृतिक तथा कानुनी पक्षहरूलाई विचार गरेर विश्लेषण गर्नुपर्ने देखिन्छ ।\n",
            "Paragraph 7: आजको युगमा पनि केही पुराना प्रथा र व्यवस्था कसरी टिकिरहेका छन् भन्ने प्रश्न महत्वपूर्ण छ । अहिलेको कानुनी व्यवस्थाअनुसार एक पटक विवाह दर्ता भएपछि अर्को विवाह गर्न चाहनेले छोडपत्र र नयाँ विवाह दर्ता अनिवार्य गर्नुपर्ने नियम छ । तर हाडनाता सम्बन्धी नियम पनि कहिलेकाहीं तोडिएको पाइन्छ, विशेषगरी केही समुदायमा । मामा-फुपूका छोराछोरीबीच विवाह हुनु र नहुनु जस्ता परम्परागत विभाजन भए पनि यसमा धेरै असमानता छन् ।\n",
            "Paragraph 8: पछिल्ला केही वर्षमा अशिक्षा र चेतनाको अभावमा गरिने बाल विवाहहरू लगभग घट्दै गएका छन् र बहुविवाहलाई कानुनी रूपमा बन्देज लगाइएको छ । यौन र प्रजनन् शिक्षा पनि विस्तारै फैलिरहेको छ, तर यौनका विषयलाई हेर्ने सामाजिक दृष्टिकोणमा खासै परिवर्तन देखिएको छैन । शिक्षा र आत्मनिर्भरता बढ्दै जाँदा व्यक्तिगत स्वतन्त्रताको दायरा विस्तार भएको छ भने सामाजिक असमानताको अन्तर पनि अझै विद्यमान छ ।\n",
            "Paragraph 9: सहरीकरणको प्रभाव गाउँगाउँमा पनि पुगेको छ र हिजोको जस्तो अनुदारता र साँघुरोपन केही कम भएको देखिन्छ । तर अहिलेको खुला पुस्ताले पनि यौनका बारेमा खुलेर कुरा गर्न चाहेको पाइँदैन । जब मैले यौन तथा प्रजनन् स्वास्थ्य सम्वन्धी अध्ययन र तालिमका सिलसिलामा देशका विभिन्न स्थानमा पुग्दा विभिन्न उमेर समूह र पेशाका व्यक्तिहरूसँगको अन्तरक्रियामा सबैलाई एउटै प्रश्न सोधें- ‘यौन के हो ? तपाईंको बुझाइमा आफ्नो अवधारणा दिनुहोस् ।’ उनीहरुमध्ये केवल केहीको जवाफ फरक थियो, बाँकी सबैको जवाफ लगभग उस्तै थियो- प्राकृतिक प्रक्रिया, जैविक आवश्यकता, विपरीत लिङ्गीप्रतिको आकर्षण, समर्पण, लिङ्ग र योनीको मिलन, वैवाहिक सम्बन्ध र सन्तानोत्पादन । यसले देखाउँछ कि यौनका बारेमा सामाजिक दृष्टिकोण र बुझाइमा अझै पनि धेरै परिवर्तन आवश्यक छ ।\n",
            "Paragraph 10: यौनका बारेमा फ्रायड, वात्स्यायन, ओशो, नित्से, डी एच लरेन्स र जेम्स जोयस जस्ता दार्शनिक र साहित्यकारहरूले यौनलाई भिन्न-भिन्न कोणबाट व्याख्या गरेका छन् । यौनको विश्लेषण र यसको सामाजिक-सांस्कृतिक महत्त्वका बारेमा यिनका दृष्टिकोणहरूले सधैं नै बहस र विमर्शलाई उत्प्रेरित गर्दै आएका छन् ।\n",
            "Paragraph 11: फ्रायडले यौनलाई मानव मनोविज्ञानको एक प्रमुख आधार मान्दै बाल्यकालदेखि नै यसले मानिसको व्यवहार र व्यक्तित्वमा प्रभाव पार्ने तर्क प्रस्तुत गरे । उनको विचारमा यौन असन्तुष्टि वा दमित यौन इच्छाहरू मनोविकारको उत्पत्ति हुनसक्छ । यसैगरी वात्स्यायनको ‘कामसूत्र’ जस्ता प्राचीन ग्रन्थले यौनलाई एउटा कला र जीवनको महत्वपूर्ण अंशका रूपमा प्रस्तुत गर्छ । ओशो भने यौनलाई आत्मिक जागरण र सन्तुलित जीवनको एक साधनका रूपमा हेर्नुपर्ने बताउँछन् ।\n",
            "Paragraph 12: नित्सेको दृष्टिकोणले जीवनको वास्तविकता र यौनको भूमिका बीचको सम्बन्धलाई गहिरो रूपमा उठाउँछ । उनले आफ्नो उच्चतम् सम्भावना नचिन्ने र पूरा नहुने मान्छेले नै समाजमा कुरुपता ल्याउने तर्क गरे । उनका विचारमा, यौन एक प्राकृतिक आवश्यकता हो, जसबाट पूर्ण रूपमा निस्पृह हुनु मानिसका लागि कठिन छ । तर यौनमा निर्लिप्त हुने या यसको नियन्त्रणमा रहनु नै मानवीय चिन्तन र जीवनको महत्त्वपूर्ण प्रश्न हो ।\n",
            "Paragraph 13: डी एच लरेन्स र जेम्स जोयसले यौन असन्तुष्टिलाई साहित्यमा मनोविज्ञान र मानवीय संवेदनाका रूपमा व्याख्या गरे । उनीहरूको विचारमा यौन असन्तुष्टिले मानिसको मानसिक अवस्था र व्यवहारमा गहिरो प्रभाव पार्छ, जसलाई साहित्यिक कृतिहरूमा चित्रण गरिएको छ ।\n",
            "Paragraph 14: यौनलाई जीवनको गुरुत्व केन्द्र मान्दा यसको शक्ति र महत्त्वको बोध हुन्छ, तर यसलाई कुरुप बनाउने तत्त्वहरू पनि समाजमा व्यापक छन् । आधुनिक समयमा, यौन शिक्षाको विकास र सामाजिक चेतनाले केही हदसम्म परिवर्तन ल्याइरहे पनि यौनप्रतिको दृष्टिकोणमा अझै पनि पुरातन सोच र सांस्कृतिक सीमाहरु बाँकी नै छन् ।\n",
            "Paragraph 15: यौनलाई प्राकृतिक प्रक्रिया र जीवनको एक अपरिहार्य अंशका रूपमा स्वीकार गर्नुपर्छ, किनकि यो मानवीय जीवन र विकाससँग सम्बन्धित छ । यौनको विषयमा समाजमा गहिरो संकोच र कुण्ठा विद्यमान छ, जसले मानिसलाई खुला रूपमा बोल्न र आफ्नो अनुभवहरू साझेदारी गर्न बाधा पुर्‍याउँछ । यसले व्यक्तिगत र सामाजिक स्तरमा समस्याको जडको रूपमा काम गर्न सक्छ ।\n",
            "Paragraph 16: मानव स्वभाव र चेतनाको आधारमा प्रत्येक व्यक्तिले जीवनको कुनै न कुनै समयमा अरूभन्दा भिन्न देखिन वा नयाँ कुरा गर्न चाहन्छ । यस्तो चाहनाले कहिलेकाहीं मानिसलाई गलत कदम चाल्न प्रेरित गर्न सक्छ, विशेषगरी सकारात्मक ऊर्जा र मार्गदर्शनको अभावमा । यौनको बारेमा खुलेर कुरा नगर्दा र दमन गर्दा यसले मानिसको मनोविज्ञानमा कुण्ठा उत्पन्न गराउँछ, जसले अन्ततः समाजमा अपराध र हिंसा जस्ता समस्या निम्त्याउन सक्छ ।\n",
            "Paragraph 17: समाजमा घटेका जघन्य अपराधहरू केवल नियम र कानुनको कडाइले मात्र समाधान गर्न सकिंदैन । नियमको पालना गराउनु र अपराधीलाई सजाय दिनु उचित भएपनि समस्याको जरोसम्म पुगेर यसको कारण पत्ता लगाउनु जरुरी छ । अपराध घट्नुको पछाडि सामाजिक संरचना, आधुनिकताको प्रभाव र शिक्षा र चेतनास्तरबीचको तालमेलको अभाव जस्ता कारण पनि हुनसक्छन् ।\n",
            "Paragraph 18: सामाजिक संरचना र आधुनिकताको दौडबीचको असन्तुलनले मानिसहरुलाई थप द्विविधामा पार्न सक्छ । अनुशासन र स्वतन्त्रताबीचको तालमेल कायम गर्न नसक्दा, मानिसहरूले आफ्नो इच्छालाई दबाएर राख्न बाध्य हुन्छन् । यसरी दबिएका इच्छाहरू समयक्रमसँगै कुण्ठामा परिणत हुन्छन्, जुन अपराधको जड बन्छ ।\n",
            "Paragraph 19: समाजले यौनको बारेमा खुलेर बहस गर्न संकोच मान्छ, जसकारण समस्या गहिरिंदै जान्छन् । जति खुला र स्पष्ट रूपमा बहस गर्न सकिन्छ, त्यति नै समस्याको स्तरीय समाधान निस्कन सक्छ । खुला समाजले पनि अपराधबाट पूर्णतः मुक्ति पाएको हुँदैन । तर खुला बहसले चेतना र समझदारीको स्तरलाई उचाइमा पुर्‍याएर सामाजिक परिवर्तनमा सकारात्मक योगदान पुर्‍याउन सक्छ ।\n",
            "Paragraph 20: समाजको वर्तमान रूप भोलिका लागि अपरिवर्तित रहने छैन । त्यसैले यौन जस्तो महत्त्वपूर्ण विषयमा बोल्न, लेख्न र छलफल गर्न उदारता देखाउनु जरूरी छ । यसले व्यक्तिगत र सामूहिक रूपमा समाजलाई स्वस्थ र अपराधमुक्त बनाउने दिशामा कदम चाल्न मद्दत पुर्‍याउँछ ।\n",
            "Paragraph 21: अन्त्यमा, नेपालमा यौनका विषयलाई अझै संकोच र कुण्ठाका साथ हेरिन्छ, जसले अपराध र मानसिक विकृति निम्त्याउन सक्छ । यौन शिक्षा र खुला बहसको आवश्यकता छ, जसले समाजको मानसिकता परिवर्तन गर्न, अपराध घटाउन र व्यक्तिगत तथा सामूहिक जीवनलाई स्वस्थ बनाउन सहयोग पुर्‍याउँछ । जैविक, सांस्कृतिक र सामाजिक दृष्टिकोणलाई समेटेर यौनको विषयमा खुला छलफल गर्नु आजको आवश्यकता हो, जसले समाजलाई समानता र न्यायको दिशामा अघि बढ्न मद्दत गर्नेछ ।\n",
            "Paragraph 22: (अधिकारी यौन तथा प्रजनन् स्वास्थ्यको क्षेत्रमा अनुसन्धान, प्रशिक्षण तथा शिक्षण गर्छन् ।)\n",
            "Paragraph 23: खुसी\n",
            "Paragraph 24: दुःखी\n",
            "Paragraph 25: अचम्मित\n",
            "Paragraph 26: उत्साहित\n",
            "Paragraph 27: आक्रोशित\n"
          ]
        }
      ]
    },
    {
      "cell_type": "markdown",
      "source": [
        "Cleaning the text"
      ],
      "metadata": {
        "id": "-bgbr8r3DLiM"
      }
    },
    {
      "cell_type": "code",
      "source": [
        "import re\n",
        "\n",
        "def clean_text(news_content):\n",
        "    # Remove URLs, special characters, and numbers\n",
        "    news_content = re.sub(r'http\\S+|www\\S+|https\\S+', '', news_content)  # Remove URLs\n",
        "    news_content = re.sub(r'[\\(\\[\\{]', '', news_content)  # Remove opening brackets\n",
        "    news_content = re.sub(r'[\\)\\]\\}]', '', news_content)  # Remove closing brackets\n",
        "    news_content = news_content.strip()  # Remove leading and trailing whitespace\n",
        "    return news_content\n",
        "\n",
        "# Clean all paragraphs\n",
        "cleaned_paragraphs = [clean_text(paragraph) for paragraph in news_content]\n",
        "\n",
        "# Print the cleaned paragraphs\n",
        "for idx in range(len(cleaned_paragraphs)):  # Loop through cleaned paragraphs\n",
        "    if idx in {0, 1, 27, 28, 29, 30, 31, 32, 33, 34, 35}:  # Adjusting for 0-indexing\n",
        "        continue\n",
        "    print(f\"Cleaned Paragraph {idx + 1}: {cleaned_paragraphs[idx]}\")  # Print cleaned paragraphs\n"
      ],
      "metadata": {
        "colab": {
          "base_uri": "https://localhost:8080/"
        },
        "id": "FaPfdHfo70fQ",
        "outputId": "011af0b4-1922-45d5-fff6-76b555ebc494"
      },
      "execution_count": 59,
      "outputs": [
        {
          "output_type": "stream",
          "name": "stdout",
          "text": [
            "Cleaned Paragraph 3: नेपालमा अझै पनि यौनका विषयलाई केवल अश्लीलताको दृष्टिले मात्र हेरिन्छ । तर यहाँका भूगोलभित्र रहेका यौन आचरण र व्यवहारलाई प्राय: नजरअन्दाज गरिएको छ । नेपाललाई एक सूत्रमा बाँध्ने नाममा बनाइने नियम कानुनले प्राय: काठमाडौ उपत्यका र केही विकसित सहरहरुको अवस्थालाई आधार मानेर निर्माण गरिएको देखिन्छ । देशका भिन्न भिन्न क्षेत्रमा रहेका फरक संस्कार र परिस्थितिलाई भने बेवास्ता गरिएको पाइन्छ ।\n",
            "Cleaned Paragraph 4: यौन र वैवाहिक प्रणाली एकअर्कासँग गहिरो रूपमा जोडिएका छन् । यौन क्रियाकलापलाई वैधानिक बनाउन नै विवाहको संस्था वा संस्कारको विकास भएको देखिन्छ । विवाहपछि पारिवारिक उतारचढावका कारण पारपाचुके तथा दोस्रो वा तेस्रो विवाहलाई कानुनी रूपमा केही सीमासहित मान्यता दिइए पनि सामाजिक रूपमा यसलाई आलोचनात्मक दृष्टिले हेर्ने र कानेखुसी गर्ने चलन अझै कायम छ ।\n",
            "Cleaned Paragraph 5: मानिस स्वतन्त्र र विवेकी प्राणी हो । त्यसैले उसले सामाजिक रूपमा समाजले निर्धारण गरेका सीमाभित्र रहनुपर्छ । धर्म, परम्परा र चलन हुँदै वर्तमानमा कानुनी रूपमा यी व्यवहारलाई लागू गरिएको छ । सिन्धु सभ्यताबाट आएका आर्य समुदायमा एक प्रकारको संस्कारको विकास भयो भने मंगोल समुदायमा फरक संस्कार देखा पर्‍यो ।\n",
            "Cleaned Paragraph 6: नेपालका केही ग्रामीण क्षेत्रमा अझै पनि बहुपति र बहुपत्नी प्रथा कायम रहेको पाइन्छ । यो प्रथा केवल जग्गा, जमिन र घरबासको अभावका कारण मात्र रहेको हो या यसको अन्य सामाजिक कारण पनि छन्, भन्ने विषयमा अझै गहिरो अध्ययन आवश्यक छ । विभिन्न कारणहरूका बाबजुद यी परम्पराहरूले समाजमा प्रभाव पारिरहेका छन् र यसको सामाजिक, सांस्कृतिक तथा कानुनी पक्षहरूलाई विचार गरेर विश्लेषण गर्नुपर्ने देखिन्छ ।\n",
            "Cleaned Paragraph 7: आजको युगमा पनि केही पुराना प्रथा र व्यवस्था कसरी टिकिरहेका छन् भन्ने प्रश्न महत्वपूर्ण छ । अहिलेको कानुनी व्यवस्थाअनुसार एक पटक विवाह दर्ता भएपछि अर्को विवाह गर्न चाहनेले छोडपत्र र नयाँ विवाह दर्ता अनिवार्य गर्नुपर्ने नियम छ । तर हाडनाता सम्बन्धी नियम पनि कहिलेकाहीं तोडिएको पाइन्छ, विशेषगरी केही समुदायमा । मामा-फुपूका छोराछोरीबीच विवाह हुनु र नहुनु जस्ता परम्परागत विभाजन भए पनि यसमा धेरै असमानता छन् ।\n",
            "Cleaned Paragraph 8: पछिल्ला केही वर्षमा अशिक्षा र चेतनाको अभावमा गरिने बाल विवाहहरू लगभग घट्दै गएका छन् र बहुविवाहलाई कानुनी रूपमा बन्देज लगाइएको छ । यौन र प्रजनन् शिक्षा पनि विस्तारै फैलिरहेको छ, तर यौनका विषयलाई हेर्ने सामाजिक दृष्टिकोणमा खासै परिवर्तन देखिएको छैन । शिक्षा र आत्मनिर्भरता बढ्दै जाँदा व्यक्तिगत स्वतन्त्रताको दायरा विस्तार भएको छ भने सामाजिक असमानताको अन्तर पनि अझै विद्यमान छ ।\n",
            "Cleaned Paragraph 9: सहरीकरणको प्रभाव गाउँगाउँमा पनि पुगेको छ र हिजोको जस्तो अनुदारता र साँघुरोपन केही कम भएको देखिन्छ । तर अहिलेको खुला पुस्ताले पनि यौनका बारेमा खुलेर कुरा गर्न चाहेको पाइँदैन । जब मैले यौन तथा प्रजनन् स्वास्थ्य सम्वन्धी अध्ययन र तालिमका सिलसिलामा देशका विभिन्न स्थानमा पुग्दा विभिन्न उमेर समूह र पेशाका व्यक्तिहरूसँगको अन्तरक्रियामा सबैलाई एउटै प्रश्न सोधें- ‘यौन के हो ? तपाईंको बुझाइमा आफ्नो अवधारणा दिनुहोस् ।’ उनीहरुमध्ये केवल केहीको जवाफ फरक थियो, बाँकी सबैको जवाफ लगभग उस्तै थियो- प्राकृतिक प्रक्रिया, जैविक आवश्यकता, विपरीत लिङ्गीप्रतिको आकर्षण, समर्पण, लिङ्ग र योनीको मिलन, वैवाहिक सम्बन्ध र सन्तानोत्पादन । यसले देखाउँछ कि यौनका बारेमा सामाजिक दृष्टिकोण र बुझाइमा अझै पनि धेरै परिवर्तन आवश्यक छ ।\n",
            "Cleaned Paragraph 10: यौनका बारेमा फ्रायड, वात्स्यायन, ओशो, नित्से, डी एच लरेन्स र जेम्स जोयस जस्ता दार्शनिक र साहित्यकारहरूले यौनलाई भिन्न-भिन्न कोणबाट व्याख्या गरेका छन् । यौनको विश्लेषण र यसको सामाजिक-सांस्कृतिक महत्त्वका बारेमा यिनका दृष्टिकोणहरूले सधैं नै बहस र विमर्शलाई उत्प्रेरित गर्दै आएका छन् ।\n",
            "Cleaned Paragraph 11: फ्रायडले यौनलाई मानव मनोविज्ञानको एक प्रमुख आधार मान्दै बाल्यकालदेखि नै यसले मानिसको व्यवहार र व्यक्तित्वमा प्रभाव पार्ने तर्क प्रस्तुत गरे । उनको विचारमा यौन असन्तुष्टि वा दमित यौन इच्छाहरू मनोविकारको उत्पत्ति हुनसक्छ । यसैगरी वात्स्यायनको ‘कामसूत्र’ जस्ता प्राचीन ग्रन्थले यौनलाई एउटा कला र जीवनको महत्वपूर्ण अंशका रूपमा प्रस्तुत गर्छ । ओशो भने यौनलाई आत्मिक जागरण र सन्तुलित जीवनको एक साधनका रूपमा हेर्नुपर्ने बताउँछन् ।\n",
            "Cleaned Paragraph 12: नित्सेको दृष्टिकोणले जीवनको वास्तविकता र यौनको भूमिका बीचको सम्बन्धलाई गहिरो रूपमा उठाउँछ । उनले आफ्नो उच्चतम् सम्भावना नचिन्ने र पूरा नहुने मान्छेले नै समाजमा कुरुपता ल्याउने तर्क गरे । उनका विचारमा, यौन एक प्राकृतिक आवश्यकता हो, जसबाट पूर्ण रूपमा निस्पृह हुनु मानिसका लागि कठिन छ । तर यौनमा निर्लिप्त हुने या यसको नियन्त्रणमा रहनु नै मानवीय चिन्तन र जीवनको महत्त्वपूर्ण प्रश्न हो ।\n",
            "Cleaned Paragraph 13: डी एच लरेन्स र जेम्स जोयसले यौन असन्तुष्टिलाई साहित्यमा मनोविज्ञान र मानवीय संवेदनाका रूपमा व्याख्या गरे । उनीहरूको विचारमा यौन असन्तुष्टिले मानिसको मानसिक अवस्था र व्यवहारमा गहिरो प्रभाव पार्छ, जसलाई साहित्यिक कृतिहरूमा चित्रण गरिएको छ ।\n",
            "Cleaned Paragraph 14: यौनलाई जीवनको गुरुत्व केन्द्र मान्दा यसको शक्ति र महत्त्वको बोध हुन्छ, तर यसलाई कुरुप बनाउने तत्त्वहरू पनि समाजमा व्यापक छन् । आधुनिक समयमा, यौन शिक्षाको विकास र सामाजिक चेतनाले केही हदसम्म परिवर्तन ल्याइरहे पनि यौनप्रतिको दृष्टिकोणमा अझै पनि पुरातन सोच र सांस्कृतिक सीमाहरु बाँकी नै छन् ।\n",
            "Cleaned Paragraph 15: यौनलाई प्राकृतिक प्रक्रिया र जीवनको एक अपरिहार्य अंशका रूपमा स्वीकार गर्नुपर्छ, किनकि यो मानवीय जीवन र विकाससँग सम्बन्धित छ । यौनको विषयमा समाजमा गहिरो संकोच र कुण्ठा विद्यमान छ, जसले मानिसलाई खुला रूपमा बोल्न र आफ्नो अनुभवहरू साझेदारी गर्न बाधा पुर्‍याउँछ । यसले व्यक्तिगत र सामाजिक स्तरमा समस्याको जडको रूपमा काम गर्न सक्छ ।\n",
            "Cleaned Paragraph 16: मानव स्वभाव र चेतनाको आधारमा प्रत्येक व्यक्तिले जीवनको कुनै न कुनै समयमा अरूभन्दा भिन्न देखिन वा नयाँ कुरा गर्न चाहन्छ । यस्तो चाहनाले कहिलेकाहीं मानिसलाई गलत कदम चाल्न प्रेरित गर्न सक्छ, विशेषगरी सकारात्मक ऊर्जा र मार्गदर्शनको अभावमा । यौनको बारेमा खुलेर कुरा नगर्दा र दमन गर्दा यसले मानिसको मनोविज्ञानमा कुण्ठा उत्पन्न गराउँछ, जसले अन्ततः समाजमा अपराध र हिंसा जस्ता समस्या निम्त्याउन सक्छ ।\n",
            "Cleaned Paragraph 17: समाजमा घटेका जघन्य अपराधहरू केवल नियम र कानुनको कडाइले मात्र समाधान गर्न सकिंदैन । नियमको पालना गराउनु र अपराधीलाई सजाय दिनु उचित भएपनि समस्याको जरोसम्म पुगेर यसको कारण पत्ता लगाउनु जरुरी छ । अपराध घट्नुको पछाडि सामाजिक संरचना, आधुनिकताको प्रभाव र शिक्षा र चेतनास्तरबीचको तालमेलको अभाव जस्ता कारण पनि हुनसक्छन् ।\n",
            "Cleaned Paragraph 18: सामाजिक संरचना र आधुनिकताको दौडबीचको असन्तुलनले मानिसहरुलाई थप द्विविधामा पार्न सक्छ । अनुशासन र स्वतन्त्रताबीचको तालमेल कायम गर्न नसक्दा, मानिसहरूले आफ्नो इच्छालाई दबाएर राख्न बाध्य हुन्छन् । यसरी दबिएका इच्छाहरू समयक्रमसँगै कुण्ठामा परिणत हुन्छन्, जुन अपराधको जड बन्छ ।\n",
            "Cleaned Paragraph 19: समाजले यौनको बारेमा खुलेर बहस गर्न संकोच मान्छ, जसकारण समस्या गहिरिंदै जान्छन् । जति खुला र स्पष्ट रूपमा बहस गर्न सकिन्छ, त्यति नै समस्याको स्तरीय समाधान निस्कन सक्छ । खुला समाजले पनि अपराधबाट पूर्णतः मुक्ति पाएको हुँदैन । तर खुला बहसले चेतना र समझदारीको स्तरलाई उचाइमा पुर्‍याएर सामाजिक परिवर्तनमा सकारात्मक योगदान पुर्‍याउन सक्छ ।\n",
            "Cleaned Paragraph 20: समाजको वर्तमान रूप भोलिका लागि अपरिवर्तित रहने छैन । त्यसैले यौन जस्तो महत्त्वपूर्ण विषयमा बोल्न, लेख्न र छलफल गर्न उदारता देखाउनु जरूरी छ । यसले व्यक्तिगत र सामूहिक रूपमा समाजलाई स्वस्थ र अपराधमुक्त बनाउने दिशामा कदम चाल्न मद्दत पुर्‍याउँछ ।\n",
            "Cleaned Paragraph 21: अन्त्यमा, नेपालमा यौनका विषयलाई अझै संकोच र कुण्ठाका साथ हेरिन्छ, जसले अपराध र मानसिक विकृति निम्त्याउन सक्छ । यौन शिक्षा र खुला बहसको आवश्यकता छ, जसले समाजको मानसिकता परिवर्तन गर्न, अपराध घटाउन र व्यक्तिगत तथा सामूहिक जीवनलाई स्वस्थ बनाउन सहयोग पुर्‍याउँछ । जैविक, सांस्कृतिक र सामाजिक दृष्टिकोणलाई समेटेर यौनको विषयमा खुला छलफल गर्नु आजको आवश्यकता हो, जसले समाजलाई समानता र न्यायको दिशामा अघि बढ्न मद्दत गर्नेछ ।\n",
            "Cleaned Paragraph 22: अधिकारी यौन तथा प्रजनन् स्वास्थ्यको क्षेत्रमा अनुसन्धान, प्रशिक्षण तथा शिक्षण गर्छन् ।\n",
            "Cleaned Paragraph 23: खुसी\n",
            "Cleaned Paragraph 24: दुःखी\n",
            "Cleaned Paragraph 25: अचम्मित\n",
            "Cleaned Paragraph 26: उत्साहित\n",
            "Cleaned Paragraph 27: आक्रोशित\n"
          ]
        }
      ]
    },
    {
      "cell_type": "code",
      "source": [
        "!pip install nltk\n",
        "import nltk\n",
        "nltk.download('punkt')\n"
      ],
      "metadata": {
        "colab": {
          "base_uri": "https://localhost:8080/"
        },
        "id": "dLrvmoV_KHO-",
        "outputId": "1773fd44-c21e-4cbc-814a-0360658d172e"
      },
      "execution_count": 64,
      "outputs": [
        {
          "output_type": "stream",
          "name": "stdout",
          "text": [
            "Requirement already satisfied: nltk in /usr/local/lib/python3.10/dist-packages (3.8.1)\n",
            "Requirement already satisfied: click in /usr/local/lib/python3.10/dist-packages (from nltk) (8.1.7)\n",
            "Requirement already satisfied: joblib in /usr/local/lib/python3.10/dist-packages (from nltk) (1.4.2)\n",
            "Requirement already satisfied: regex>=2021.8.3 in /usr/local/lib/python3.10/dist-packages (from nltk) (2024.9.11)\n",
            "Requirement already satisfied: tqdm in /usr/local/lib/python3.10/dist-packages (from nltk) (4.66.5)\n"
          ]
        },
        {
          "output_type": "stream",
          "name": "stderr",
          "text": [
            "[nltk_data] Downloading package punkt to /root/nltk_data...\n",
            "[nltk_data]   Unzipping tokenizers/punkt.zip.\n"
          ]
        },
        {
          "output_type": "execute_result",
          "data": {
            "text/plain": [
              "True"
            ]
          },
          "metadata": {},
          "execution_count": 64
        }
      ]
    },
    {
      "cell_type": "markdown",
      "source": [
        "Tokenization"
      ],
      "metadata": {
        "id": "CfTsLn0sJIP1"
      }
    },
    {
      "cell_type": "code",
      "source": [
        "\n",
        "from nltk.tokenize import word_tokenize\n",
        "tokenized_paragraphs = [word_tokenize(paragraph) for paragraph in cleaned_paragraphs]"
      ],
      "metadata": {
        "id": "mKqnMzRmCZro"
      },
      "execution_count": 65,
      "outputs": []
    },
    {
      "cell_type": "markdown",
      "source": [
        "Normalization"
      ],
      "metadata": {
        "id": "Kpj_6U8-KR8H"
      }
    },
    {
      "cell_type": "code",
      "source": [
        "# Lowercasing\n",
        "tokenized_paragraphs = [[word.lower() for word in paragraph] for paragraph in tokenized_paragraphs]\n"
      ],
      "metadata": {
        "id": "AmwT9hdQCaqF"
      },
      "execution_count": 66,
      "outputs": []
    },
    {
      "cell_type": "markdown",
      "source": [
        "Sentiment Labeling"
      ],
      "metadata": {
        "id": "rw3gmn69KXzr"
      }
    },
    {
      "cell_type": "code",
      "source": [
        "labeled_data = [\n",
        "    (\"Cleaned paragraph 1 text\", \"neutral\"),  # Neutral\n",
        "    (\"Cleaned paragraph 2 text\", \"neutral\"),  # Neutral\n",
        "    (\"Cleaned paragraph 3 text\", \"neutral\"),  # Neutral\n",
        "    (\"Cleaned paragraph 4 text\", \"Positive\"),  # Positive\n",
        "    (\"Cleaned paragraph 5 text\", \"neutral\"),  # Neutral\n",
        "    (\"Cleaned paragraph 6 text\", \"neutral\"),  # Neutral\n",
        "    (\"Cleaned paragraph 7 text\", \"neutral\"),  # Neutral\n",
        "    (\"Cleaned paragraph 8 text\", \"neutral\"),  # Neutral\n",
        "    (\"Cleaned paragraph 9 text\", \"neutral\"),  # Neutral\n",
        "    (\"Cleaned paragraph 10 text\", \"negative\"), # Negative\n",
        "    (\"Cleaned paragraph 11 text\", \"negative\"), # Negative\n",
        "    (\"Cleaned paragraph 12 text\", \"negative\"), # Negative\n",
        "    (\"Cleaned paragraph 13 text\", \"negative\"), # Negative\n",
        "    (\"Cleaned paragraph 14 text\", \"negative\"), # Negative\n",
        "    (\"Cleaned paragraph 15 text\", \"negative\"), # Negative\n",
        "    (\"Cleaned paragraph 16 text\", \"Positive\"), # Positive\n",
        "    (\"Cleaned paragraph 17 text\", \"Negative\"),  # Negative\n",
        "    (\"Cleaned paragraph 18 text\", \"Negative\"),  # Negative\n",
        "    (\"Cleaned paragraph 19 text\", \"Negative\"),  # Negative\n",
        "    (\"Cleaned paragraph 20 text\", \"Positive\"),  # Positive\n",
        "    (\"Cleaned paragraph 21 text\", \"neutral\"),  # Neutral\n",
        "    (\"Cleaned paragraph 22 text\", \"neutral\"),  # Neutral\n",
        "    (\"Cleaned paragraph 23 text\", \"negative\"), # Negative\n",
        "    (\"Cleaned paragraph 24 text\", \"negative\"), # Negative\n",
        "    (\"Cleaned paragraph 25 text\", \"negative\"), # Negative\n",
        "    (\"Cleaned paragraph 26 text\", \"negative\"), # Negative\n",
        "    (\"Cleaned paragraph 27 text\", \"negative\")  # Negative\n",
        "]\n"
      ],
      "metadata": {
        "id": "eJcx57EOKUM8"
      },
      "execution_count": 67,
      "outputs": []
    },
    {
      "cell_type": "code",
      "source": [
        "from tensorflow.keras.models import Sequential\n",
        "from tensorflow.keras.layers import Embedding, LSTM, Dense, Dropout\n",
        "from tensorflow.keras.preprocessing.text import Tokenizer\n",
        "from tensorflow.keras.preprocessing.sequence import pad_sequences\n",
        "from sklearn.preprocessing import LabelEncoder\n",
        "from sklearn.model_selection import train_test_split\n",
        "import numpy as np\n"
      ],
      "metadata": {
        "id": "1UFLBaF4V961"
      },
      "execution_count": 131,
      "outputs": []
    },
    {
      "cell_type": "code",
      "source": [
        "!pip install numpy\n",
        "!pip install tensorflow\n"
      ],
      "metadata": {
        "colab": {
          "base_uri": "https://localhost:8080/"
        },
        "id": "kw1c__qKMs2G",
        "outputId": "ba360ae4-b878-4736-a4d9-e7bb7b643004"
      },
      "execution_count": 68,
      "outputs": [
        {
          "output_type": "stream",
          "name": "stdout",
          "text": [
            "Requirement already satisfied: numpy in /usr/local/lib/python3.10/dist-packages (1.26.4)\n",
            "Requirement already satisfied: tensorflow in /usr/local/lib/python3.10/dist-packages (2.17.0)\n",
            "Requirement already satisfied: absl-py>=1.0.0 in /usr/local/lib/python3.10/dist-packages (from tensorflow) (1.4.0)\n",
            "Requirement already satisfied: astunparse>=1.6.0 in /usr/local/lib/python3.10/dist-packages (from tensorflow) (1.6.3)\n",
            "Requirement already satisfied: flatbuffers>=24.3.25 in /usr/local/lib/python3.10/dist-packages (from tensorflow) (24.3.25)\n",
            "Requirement already satisfied: gast!=0.5.0,!=0.5.1,!=0.5.2,>=0.2.1 in /usr/local/lib/python3.10/dist-packages (from tensorflow) (0.6.0)\n",
            "Requirement already satisfied: google-pasta>=0.1.1 in /usr/local/lib/python3.10/dist-packages (from tensorflow) (0.2.0)\n",
            "Requirement already satisfied: h5py>=3.10.0 in /usr/local/lib/python3.10/dist-packages (from tensorflow) (3.11.0)\n",
            "Requirement already satisfied: libclang>=13.0.0 in /usr/local/lib/python3.10/dist-packages (from tensorflow) (18.1.1)\n",
            "Requirement already satisfied: ml-dtypes<0.5.0,>=0.3.1 in /usr/local/lib/python3.10/dist-packages (from tensorflow) (0.4.1)\n",
            "Requirement already satisfied: opt-einsum>=2.3.2 in /usr/local/lib/python3.10/dist-packages (from tensorflow) (3.4.0)\n",
            "Requirement already satisfied: packaging in /usr/local/lib/python3.10/dist-packages (from tensorflow) (24.1)\n",
            "Requirement already satisfied: protobuf!=4.21.0,!=4.21.1,!=4.21.2,!=4.21.3,!=4.21.4,!=4.21.5,<5.0.0dev,>=3.20.3 in /usr/local/lib/python3.10/dist-packages (from tensorflow) (3.20.3)\n",
            "Requirement already satisfied: requests<3,>=2.21.0 in /usr/local/lib/python3.10/dist-packages (from tensorflow) (2.32.3)\n",
            "Requirement already satisfied: setuptools in /usr/local/lib/python3.10/dist-packages (from tensorflow) (75.1.0)\n",
            "Requirement already satisfied: six>=1.12.0 in /usr/local/lib/python3.10/dist-packages (from tensorflow) (1.16.0)\n",
            "Requirement already satisfied: termcolor>=1.1.0 in /usr/local/lib/python3.10/dist-packages (from tensorflow) (2.5.0)\n",
            "Requirement already satisfied: typing-extensions>=3.6.6 in /usr/local/lib/python3.10/dist-packages (from tensorflow) (4.12.2)\n",
            "Requirement already satisfied: wrapt>=1.11.0 in /usr/local/lib/python3.10/dist-packages (from tensorflow) (1.16.0)\n",
            "Requirement already satisfied: grpcio<2.0,>=1.24.3 in /usr/local/lib/python3.10/dist-packages (from tensorflow) (1.64.1)\n",
            "Requirement already satisfied: tensorboard<2.18,>=2.17 in /usr/local/lib/python3.10/dist-packages (from tensorflow) (2.17.0)\n",
            "Requirement already satisfied: keras>=3.2.0 in /usr/local/lib/python3.10/dist-packages (from tensorflow) (3.4.1)\n",
            "Requirement already satisfied: tensorflow-io-gcs-filesystem>=0.23.1 in /usr/local/lib/python3.10/dist-packages (from tensorflow) (0.37.1)\n",
            "Requirement already satisfied: numpy<2.0.0,>=1.23.5 in /usr/local/lib/python3.10/dist-packages (from tensorflow) (1.26.4)\n",
            "Requirement already satisfied: wheel<1.0,>=0.23.0 in /usr/local/lib/python3.10/dist-packages (from astunparse>=1.6.0->tensorflow) (0.44.0)\n",
            "Requirement already satisfied: rich in /usr/local/lib/python3.10/dist-packages (from keras>=3.2.0->tensorflow) (13.9.2)\n",
            "Requirement already satisfied: namex in /usr/local/lib/python3.10/dist-packages (from keras>=3.2.0->tensorflow) (0.0.8)\n",
            "Requirement already satisfied: optree in /usr/local/lib/python3.10/dist-packages (from keras>=3.2.0->tensorflow) (0.13.0)\n",
            "Requirement already satisfied: charset-normalizer<4,>=2 in /usr/local/lib/python3.10/dist-packages (from requests<3,>=2.21.0->tensorflow) (3.4.0)\n",
            "Requirement already satisfied: idna<4,>=2.5 in /usr/local/lib/python3.10/dist-packages (from requests<3,>=2.21.0->tensorflow) (3.10)\n",
            "Requirement already satisfied: urllib3<3,>=1.21.1 in /usr/local/lib/python3.10/dist-packages (from requests<3,>=2.21.0->tensorflow) (2.2.3)\n",
            "Requirement already satisfied: certifi>=2017.4.17 in /usr/local/lib/python3.10/dist-packages (from requests<3,>=2.21.0->tensorflow) (2024.8.30)\n",
            "Requirement already satisfied: markdown>=2.6.8 in /usr/local/lib/python3.10/dist-packages (from tensorboard<2.18,>=2.17->tensorflow) (3.7)\n",
            "Requirement already satisfied: tensorboard-data-server<0.8.0,>=0.7.0 in /usr/local/lib/python3.10/dist-packages (from tensorboard<2.18,>=2.17->tensorflow) (0.7.2)\n",
            "Requirement already satisfied: werkzeug>=1.0.1 in /usr/local/lib/python3.10/dist-packages (from tensorboard<2.18,>=2.17->tensorflow) (3.0.4)\n",
            "Requirement already satisfied: MarkupSafe>=2.1.1 in /usr/local/lib/python3.10/dist-packages (from werkzeug>=1.0.1->tensorboard<2.18,>=2.17->tensorflow) (3.0.1)\n",
            "Requirement already satisfied: markdown-it-py>=2.2.0 in /usr/local/lib/python3.10/dist-packages (from rich->keras>=3.2.0->tensorflow) (3.0.0)\n",
            "Requirement already satisfied: pygments<3.0.0,>=2.13.0 in /usr/local/lib/python3.10/dist-packages (from rich->keras>=3.2.0->tensorflow) (2.18.0)\n",
            "Requirement already satisfied: mdurl~=0.1 in /usr/local/lib/python3.10/dist-packages (from markdown-it-py>=2.2.0->rich->keras>=3.2.0->tensorflow) (0.1.2)\n"
          ]
        }
      ]
    },
    {
      "cell_type": "code",
      "source": [
        "X = [text for text, label in labeled_data]\n",
        "y = [label for text, label in labeled_data]"
      ],
      "metadata": {
        "id": "VGV0b7I9T3Nl"
      },
      "execution_count": 108,
      "outputs": []
    },
    {
      "cell_type": "code",
      "source": [
        "tokenizer = Tokenizer()\n",
        "tokenizer.fit_on_texts(X)\n"
      ],
      "metadata": {
        "id": "Y35dYREdT3KG"
      },
      "execution_count": 120,
      "outputs": []
    },
    {
      "cell_type": "code",
      "source": [
        "X_sequences = tokenizer.texts_to_sequences(X)"
      ],
      "metadata": {
        "id": "X5PSfhVVT3Hi"
      },
      "execution_count": 119,
      "outputs": []
    },
    {
      "cell_type": "code",
      "source": [
        "max_length = max(len(seq) for seq in X_sequences)  # Set maximum length based on your data\n",
        "X_padded = pad_sequences(X_sequences, maxlen=max_length, padding='post')\n"
      ],
      "metadata": {
        "id": "mWctSNSoT3FF"
      },
      "execution_count": 111,
      "outputs": []
    },
    {
      "cell_type": "markdown",
      "source": [
        "Encode the labels"
      ],
      "metadata": {
        "id": "7VvF51UmViAQ"
      }
    },
    {
      "cell_type": "code",
      "source": [
        "\n",
        "label_encoder = LabelEncoder()\n",
        "y_encoded = label_encoder.fit_transform(y)\n",
        "num_classes = len(label_encoder.classes_)"
      ],
      "metadata": {
        "id": "MblA6oVhT3Ca"
      },
      "execution_count": 132,
      "outputs": []
    },
    {
      "cell_type": "markdown",
      "source": [
        "Convert to NumPy arrays"
      ],
      "metadata": {
        "id": "vuZgHBQ5VfXj"
      }
    },
    {
      "cell_type": "code",
      "source": [
        "\n",
        "X_final = np.array(X_padded)\n",
        "y_final = np.array(y_encoded)"
      ],
      "metadata": {
        "id": "8KiK3goeT2_8"
      },
      "execution_count": 133,
      "outputs": []
    },
    {
      "cell_type": "code",
      "source": [
        "X_train, X_val, y_train, y_val = train_test_split(X_final, y_final, test_size=0.2, random_state=30)"
      ],
      "metadata": {
        "id": "_rV1hbYbT29Q"
      },
      "execution_count": 134,
      "outputs": []
    },
    {
      "cell_type": "markdown",
      "source": [
        "\n",
        "Define LSTM model"
      ],
      "metadata": {
        "id": "uhZfpDP_VcXD"
      }
    },
    {
      "cell_type": "code",
      "source": [
        "\n",
        "model = Sequential()\n",
        "model.add(Embedding(input_dim=len(tokenizer.word_index) + 1, output_dim=128, input_length=max_length))\n",
        "model.add(LSTM(64, return_sequences=True))\n",
        "model.add(Dropout(0.5))\n",
        "model.add(LSTM(32))  # Second LSTM layer\n",
        "model.add(Dropout(0.5))\n",
        "model.add(Dense(num_classes, activation='softmax'))  # Number of classes here\n"
      ],
      "metadata": {
        "colab": {
          "base_uri": "https://localhost:8080/"
        },
        "id": "zM0ErCR8T26m",
        "outputId": "9926b360-b685-420c-b954-570c3aa7d8da"
      },
      "execution_count": 135,
      "outputs": [
        {
          "output_type": "stream",
          "name": "stderr",
          "text": [
            "/usr/local/lib/python3.10/dist-packages/keras/src/layers/core/embedding.py:90: UserWarning: Argument `input_length` is deprecated. Just remove it.\n",
            "  warnings.warn(\n"
          ]
        }
      ]
    },
    {
      "cell_type": "code",
      "source": [
        "model.compile(loss='sparse_categorical_crossentropy', optimizer='adam', metrics=['accuracy'])"
      ],
      "metadata": {
        "id": "db1LqX9-T23x"
      },
      "execution_count": 136,
      "outputs": []
    },
    {
      "cell_type": "markdown",
      "source": [
        "Model Fit"
      ],
      "metadata": {
        "id": "neHXw9iLVZMo"
      }
    },
    {
      "cell_type": "code",
      "source": [
        "model.fit(X_train, y_train, epochs=100, batch_size=32, validation_data=(X_val, y_val))"
      ],
      "metadata": {
        "colab": {
          "base_uri": "https://localhost:8080/"
        },
        "id": "FaD6w_LvT204",
        "outputId": "e492c19e-0f07-490f-d115-deecba707ea0"
      },
      "execution_count": 137,
      "outputs": [
        {
          "output_type": "stream",
          "name": "stdout",
          "text": [
            "Epoch 1/100\n",
            "\u001b[1m1/1\u001b[0m \u001b[32m━━━━━━━━━━━━━━━━━━━━\u001b[0m\u001b[37m\u001b[0m \u001b[1m5s\u001b[0m 5s/step - accuracy: 0.1429 - loss: 1.3856 - val_accuracy: 0.3333 - val_loss: 1.3843\n",
            "Epoch 2/100\n",
            "\u001b[1m1/1\u001b[0m \u001b[32m━━━━━━━━━━━━━━━━━━━━\u001b[0m\u001b[37m\u001b[0m \u001b[1m0s\u001b[0m 132ms/step - accuracy: 0.3810 - loss: 1.3824 - val_accuracy: 0.3333 - val_loss: 1.3833\n",
            "Epoch 3/100\n",
            "\u001b[1m1/1\u001b[0m \u001b[32m━━━━━━━━━━━━━━━━━━━━\u001b[0m\u001b[37m\u001b[0m \u001b[1m0s\u001b[0m 68ms/step - accuracy: 0.3810 - loss: 1.3775 - val_accuracy: 0.3333 - val_loss: 1.3822\n",
            "Epoch 4/100\n",
            "\u001b[1m1/1\u001b[0m \u001b[32m━━━━━━━━━━━━━━━━━━━━\u001b[0m\u001b[37m\u001b[0m \u001b[1m0s\u001b[0m 69ms/step - accuracy: 0.4762 - loss: 1.3737 - val_accuracy: 0.3333 - val_loss: 1.3812\n",
            "Epoch 5/100\n",
            "\u001b[1m1/1\u001b[0m \u001b[32m━━━━━━━━━━━━━━━━━━━━\u001b[0m\u001b[37m\u001b[0m \u001b[1m0s\u001b[0m 93ms/step - accuracy: 0.5238 - loss: 1.3635 - val_accuracy: 0.3333 - val_loss: 1.3801\n",
            "Epoch 6/100\n",
            "\u001b[1m1/1\u001b[0m \u001b[32m━━━━━━━━━━━━━━━━━━━━\u001b[0m\u001b[37m\u001b[0m \u001b[1m0s\u001b[0m 122ms/step - accuracy: 0.3810 - loss: 1.3633 - val_accuracy: 0.3333 - val_loss: 1.3790\n",
            "Epoch 7/100\n",
            "\u001b[1m1/1\u001b[0m \u001b[32m━━━━━━━━━━━━━━━━━━━━\u001b[0m\u001b[37m\u001b[0m \u001b[1m0s\u001b[0m 74ms/step - accuracy: 0.3333 - loss: 1.3586 - val_accuracy: 0.3333 - val_loss: 1.3778\n",
            "Epoch 8/100\n",
            "\u001b[1m1/1\u001b[0m \u001b[32m━━━━━━━━━━━━━━━━━━━━\u001b[0m\u001b[37m\u001b[0m \u001b[1m0s\u001b[0m 111ms/step - accuracy: 0.5238 - loss: 1.3525 - val_accuracy: 0.3333 - val_loss: 1.3765\n",
            "Epoch 9/100\n",
            "\u001b[1m1/1\u001b[0m \u001b[32m━━━━━━━━━━━━━━━━━━━━\u001b[0m\u001b[37m\u001b[0m \u001b[1m0s\u001b[0m 75ms/step - accuracy: 0.4286 - loss: 1.3525 - val_accuracy: 0.3333 - val_loss: 1.3754\n",
            "Epoch 10/100\n",
            "\u001b[1m1/1\u001b[0m \u001b[32m━━━━━━━━━━━━━━━━━━━━\u001b[0m\u001b[37m\u001b[0m \u001b[1m0s\u001b[0m 145ms/step - accuracy: 0.4286 - loss: 1.3389 - val_accuracy: 0.3333 - val_loss: 1.3742\n",
            "Epoch 11/100\n",
            "\u001b[1m1/1\u001b[0m \u001b[32m━━━━━━━━━━━━━━━━━━━━\u001b[0m\u001b[37m\u001b[0m \u001b[1m0s\u001b[0m 133ms/step - accuracy: 0.4762 - loss: 1.3288 - val_accuracy: 0.3333 - val_loss: 1.3728\n",
            "Epoch 12/100\n",
            "\u001b[1m1/1\u001b[0m \u001b[32m━━━━━━━━━━━━━━━━━━━━\u001b[0m\u001b[37m\u001b[0m \u001b[1m0s\u001b[0m 96ms/step - accuracy: 0.3810 - loss: 1.3275 - val_accuracy: 0.3333 - val_loss: 1.3715\n",
            "Epoch 13/100\n",
            "\u001b[1m1/1\u001b[0m \u001b[32m━━━━━━━━━━━━━━━━━━━━\u001b[0m\u001b[37m\u001b[0m \u001b[1m0s\u001b[0m 173ms/step - accuracy: 0.3810 - loss: 1.3277 - val_accuracy: 0.3333 - val_loss: 1.3702\n",
            "Epoch 14/100\n",
            "\u001b[1m1/1\u001b[0m \u001b[32m━━━━━━━━━━━━━━━━━━━━\u001b[0m\u001b[37m\u001b[0m \u001b[1m0s\u001b[0m 270ms/step - accuracy: 0.4286 - loss: 1.3086 - val_accuracy: 0.3333 - val_loss: 1.3691\n",
            "Epoch 15/100\n",
            "\u001b[1m1/1\u001b[0m \u001b[32m━━━━━━━━━━━━━━━━━━━━\u001b[0m\u001b[37m\u001b[0m \u001b[1m0s\u001b[0m 147ms/step - accuracy: 0.5238 - loss: 1.2927 - val_accuracy: 0.3333 - val_loss: 1.3682\n",
            "Epoch 16/100\n",
            "\u001b[1m1/1\u001b[0m \u001b[32m━━━━━━━━━━━━━━━━━━━━\u001b[0m\u001b[37m\u001b[0m \u001b[1m0s\u001b[0m 118ms/step - accuracy: 0.2857 - loss: 1.3051 - val_accuracy: 0.3333 - val_loss: 1.3677\n",
            "Epoch 17/100\n",
            "\u001b[1m1/1\u001b[0m \u001b[32m━━━━━━━━━━━━━━━━━━━━\u001b[0m\u001b[37m\u001b[0m \u001b[1m0s\u001b[0m 125ms/step - accuracy: 0.4762 - loss: 1.3013 - val_accuracy: 0.3333 - val_loss: 1.3677\n",
            "Epoch 18/100\n",
            "\u001b[1m1/1\u001b[0m \u001b[32m━━━━━━━━━━━━━━━━━━━━\u001b[0m\u001b[37m\u001b[0m \u001b[1m0s\u001b[0m 128ms/step - accuracy: 0.4762 - loss: 1.2699 - val_accuracy: 0.3333 - val_loss: 1.3682\n",
            "Epoch 19/100\n",
            "\u001b[1m1/1\u001b[0m \u001b[32m━━━━━━━━━━━━━━━━━━━━\u001b[0m\u001b[37m\u001b[0m \u001b[1m0s\u001b[0m 104ms/step - accuracy: 0.3333 - loss: 1.2717 - val_accuracy: 0.3333 - val_loss: 1.3691\n",
            "Epoch 20/100\n",
            "\u001b[1m1/1\u001b[0m \u001b[32m━━━━━━━━━━━━━━━━━━━━\u001b[0m\u001b[37m\u001b[0m \u001b[1m0s\u001b[0m 153ms/step - accuracy: 0.4286 - loss: 1.2344 - val_accuracy: 0.3333 - val_loss: 1.3710\n",
            "Epoch 21/100\n",
            "\u001b[1m1/1\u001b[0m \u001b[32m━━━━━━━━━━━━━━━━━━━━\u001b[0m\u001b[37m\u001b[0m \u001b[1m0s\u001b[0m 110ms/step - accuracy: 0.4286 - loss: 1.2256 - val_accuracy: 0.3333 - val_loss: 1.3746\n",
            "Epoch 22/100\n",
            "\u001b[1m1/1\u001b[0m \u001b[32m━━━━━━━━━━━━━━━━━━━━\u001b[0m\u001b[37m\u001b[0m \u001b[1m0s\u001b[0m 141ms/step - accuracy: 0.5238 - loss: 1.1964 - val_accuracy: 0.3333 - val_loss: 1.3800\n",
            "Epoch 23/100\n",
            "\u001b[1m1/1\u001b[0m \u001b[32m━━━━━━━━━━━━━━━━━━━━\u001b[0m\u001b[37m\u001b[0m \u001b[1m0s\u001b[0m 106ms/step - accuracy: 0.4762 - loss: 1.2241 - val_accuracy: 0.3333 - val_loss: 1.3877\n",
            "Epoch 24/100\n",
            "\u001b[1m1/1\u001b[0m \u001b[32m━━━━━━━━━━━━━━━━━━━━\u001b[0m\u001b[37m\u001b[0m \u001b[1m0s\u001b[0m 153ms/step - accuracy: 0.6190 - loss: 1.1801 - val_accuracy: 0.3333 - val_loss: 1.3985\n",
            "Epoch 25/100\n",
            "\u001b[1m1/1\u001b[0m \u001b[32m━━━━━━━━━━━━━━━━━━━━\u001b[0m\u001b[37m\u001b[0m \u001b[1m0s\u001b[0m 113ms/step - accuracy: 0.4762 - loss: 1.1755 - val_accuracy: 0.3333 - val_loss: 1.4119\n",
            "Epoch 26/100\n",
            "\u001b[1m1/1\u001b[0m \u001b[32m━━━━━━━━━━━━━━━━━━━━\u001b[0m\u001b[37m\u001b[0m \u001b[1m0s\u001b[0m 144ms/step - accuracy: 0.3810 - loss: 1.1835 - val_accuracy: 0.3333 - val_loss: 1.4284\n",
            "Epoch 27/100\n",
            "\u001b[1m1/1\u001b[0m \u001b[32m━━━━━━━━━━━━━━━━━━━━\u001b[0m\u001b[37m\u001b[0m \u001b[1m0s\u001b[0m 155ms/step - accuracy: 0.4286 - loss: 1.1145 - val_accuracy: 0.3333 - val_loss: 1.4479\n",
            "Epoch 28/100\n",
            "\u001b[1m1/1\u001b[0m \u001b[32m━━━━━━━━━━━━━━━━━━━━\u001b[0m\u001b[37m\u001b[0m \u001b[1m0s\u001b[0m 121ms/step - accuracy: 0.5714 - loss: 1.0715 - val_accuracy: 0.3333 - val_loss: 1.4723\n",
            "Epoch 29/100\n",
            "\u001b[1m1/1\u001b[0m \u001b[32m━━━━━━━━━━━━━━━━━━━━\u001b[0m\u001b[37m\u001b[0m \u001b[1m0s\u001b[0m 108ms/step - accuracy: 0.4286 - loss: 1.1983 - val_accuracy: 0.3333 - val_loss: 1.4986\n",
            "Epoch 30/100\n",
            "\u001b[1m1/1\u001b[0m \u001b[32m━━━━━━━━━━━━━━━━━━━━\u001b[0m\u001b[37m\u001b[0m \u001b[1m0s\u001b[0m 102ms/step - accuracy: 0.2381 - loss: 1.1865 - val_accuracy: 0.3333 - val_loss: 1.5234\n",
            "Epoch 31/100\n",
            "\u001b[1m1/1\u001b[0m \u001b[32m━━━━━━━━━━━━━━━━━━━━\u001b[0m\u001b[37m\u001b[0m \u001b[1m0s\u001b[0m 115ms/step - accuracy: 0.3810 - loss: 1.1695 - val_accuracy: 0.3333 - val_loss: 1.5460\n",
            "Epoch 32/100\n",
            "\u001b[1m1/1\u001b[0m \u001b[32m━━━━━━━━━━━━━━━━━━━━\u001b[0m\u001b[37m\u001b[0m \u001b[1m0s\u001b[0m 100ms/step - accuracy: 0.5714 - loss: 1.1249 - val_accuracy: 0.3333 - val_loss: 1.5688\n",
            "Epoch 33/100\n",
            "\u001b[1m1/1\u001b[0m \u001b[32m━━━━━━━━━━━━━━━━━━━━\u001b[0m\u001b[37m\u001b[0m \u001b[1m0s\u001b[0m 138ms/step - accuracy: 0.5714 - loss: 1.0573 - val_accuracy: 0.3333 - val_loss: 1.5910\n",
            "Epoch 34/100\n",
            "\u001b[1m1/1\u001b[0m \u001b[32m━━━━━━━━━━━━━━━━━━━━\u001b[0m\u001b[37m\u001b[0m \u001b[1m0s\u001b[0m 68ms/step - accuracy: 0.5238 - loss: 1.1292 - val_accuracy: 0.3333 - val_loss: 1.6095\n",
            "Epoch 35/100\n",
            "\u001b[1m1/1\u001b[0m \u001b[32m━━━━━━━━━━━━━━━━━━━━\u001b[0m\u001b[37m\u001b[0m \u001b[1m0s\u001b[0m 78ms/step - accuracy: 0.5238 - loss: 1.0990 - val_accuracy: 0.3333 - val_loss: 1.6219\n",
            "Epoch 36/100\n",
            "\u001b[1m1/1\u001b[0m \u001b[32m━━━━━━━━━━━━━━━━━━━━\u001b[0m\u001b[37m\u001b[0m \u001b[1m0s\u001b[0m 84ms/step - accuracy: 0.4286 - loss: 1.1136 - val_accuracy: 0.3333 - val_loss: 1.6311\n",
            "Epoch 37/100\n",
            "\u001b[1m1/1\u001b[0m \u001b[32m━━━━━━━━━━━━━━━━━━━━\u001b[0m\u001b[37m\u001b[0m \u001b[1m0s\u001b[0m 76ms/step - accuracy: 0.4762 - loss: 1.2148 - val_accuracy: 0.3333 - val_loss: 1.6322\n",
            "Epoch 38/100\n",
            "\u001b[1m1/1\u001b[0m \u001b[32m━━━━━━━━━━━━━━━━━━━━\u001b[0m\u001b[37m\u001b[0m \u001b[1m0s\u001b[0m 81ms/step - accuracy: 0.5238 - loss: 1.0732 - val_accuracy: 0.3333 - val_loss: 1.6315\n",
            "Epoch 39/100\n",
            "\u001b[1m1/1\u001b[0m \u001b[32m━━━━━━━━━━━━━━━━━━━━\u001b[0m\u001b[37m\u001b[0m \u001b[1m0s\u001b[0m 65ms/step - accuracy: 0.3810 - loss: 1.1652 - val_accuracy: 0.5000 - val_loss: 1.6262\n",
            "Epoch 40/100\n",
            "\u001b[1m1/1\u001b[0m \u001b[32m━━━━━━━━━━━━━━━━━━━━\u001b[0m\u001b[37m\u001b[0m \u001b[1m0s\u001b[0m 68ms/step - accuracy: 0.2857 - loss: 1.2089 - val_accuracy: 0.6667 - val_loss: 1.6158\n",
            "Epoch 41/100\n",
            "\u001b[1m1/1\u001b[0m \u001b[32m━━━━━━━━━━━━━━━━━━━━\u001b[0m\u001b[37m\u001b[0m \u001b[1m0s\u001b[0m 72ms/step - accuracy: 0.5238 - loss: 1.1059 - val_accuracy: 0.6667 - val_loss: 1.6030\n",
            "Epoch 42/100\n",
            "\u001b[1m1/1\u001b[0m \u001b[32m━━━━━━━━━━━━━━━━━━━━\u001b[0m\u001b[37m\u001b[0m \u001b[1m0s\u001b[0m 134ms/step - accuracy: 0.5238 - loss: 1.0973 - val_accuracy: 0.6667 - val_loss: 1.5913\n",
            "Epoch 43/100\n",
            "\u001b[1m1/1\u001b[0m \u001b[32m━━━━━━━━━━━━━━━━━━━━\u001b[0m\u001b[37m\u001b[0m \u001b[1m0s\u001b[0m 67ms/step - accuracy: 0.4762 - loss: 1.0837 - val_accuracy: 0.6667 - val_loss: 1.5803\n",
            "Epoch 44/100\n",
            "\u001b[1m1/1\u001b[0m \u001b[32m━━━━━━━━━━━━━━━━━━━━\u001b[0m\u001b[37m\u001b[0m \u001b[1m0s\u001b[0m 136ms/step - accuracy: 0.5238 - loss: 1.0635 - val_accuracy: 0.5000 - val_loss: 1.5715\n",
            "Epoch 45/100\n",
            "\u001b[1m1/1\u001b[0m \u001b[32m━━━━━━━━━━━━━━━━━━━━\u001b[0m\u001b[37m\u001b[0m \u001b[1m0s\u001b[0m 66ms/step - accuracy: 0.7143 - loss: 1.0427 - val_accuracy: 0.5000 - val_loss: 1.5655\n",
            "Epoch 46/100\n",
            "\u001b[1m1/1\u001b[0m \u001b[32m━━━━━━━━━━━━━━━━━━━━\u001b[0m\u001b[37m\u001b[0m \u001b[1m0s\u001b[0m 98ms/step - accuracy: 0.3333 - loss: 1.1655 - val_accuracy: 0.5000 - val_loss: 1.5590\n",
            "Epoch 47/100\n",
            "\u001b[1m1/1\u001b[0m \u001b[32m━━━━━━━━━━━━━━━━━━━━\u001b[0m\u001b[37m\u001b[0m \u001b[1m0s\u001b[0m 82ms/step - accuracy: 0.5714 - loss: 1.0732 - val_accuracy: 0.5000 - val_loss: 1.5534\n",
            "Epoch 48/100\n",
            "\u001b[1m1/1\u001b[0m \u001b[32m━━━━━━━━━━━━━━━━━━━━\u001b[0m\u001b[37m\u001b[0m \u001b[1m0s\u001b[0m 144ms/step - accuracy: 0.5714 - loss: 1.0876 - val_accuracy: 0.5000 - val_loss: 1.5490\n",
            "Epoch 49/100\n",
            "\u001b[1m1/1\u001b[0m \u001b[32m━━━━━━━━━━━━━━━━━━━━\u001b[0m\u001b[37m\u001b[0m \u001b[1m0s\u001b[0m 69ms/step - accuracy: 0.5238 - loss: 1.1010 - val_accuracy: 0.5000 - val_loss: 1.5442\n",
            "Epoch 50/100\n",
            "\u001b[1m1/1\u001b[0m \u001b[32m━━━━━━━━━━━━━━━━━━━━\u001b[0m\u001b[37m\u001b[0m \u001b[1m0s\u001b[0m 73ms/step - accuracy: 0.6667 - loss: 1.0222 - val_accuracy: 0.5000 - val_loss: 1.5418\n",
            "Epoch 51/100\n",
            "\u001b[1m1/1\u001b[0m \u001b[32m━━━━━━━━━━━━━━━━━━━━\u001b[0m\u001b[37m\u001b[0m \u001b[1m0s\u001b[0m 130ms/step - accuracy: 0.6667 - loss: 0.9793 - val_accuracy: 0.3333 - val_loss: 1.5429\n",
            "Epoch 52/100\n",
            "\u001b[1m1/1\u001b[0m \u001b[32m━━━━━━━━━━━━━━━━━━━━\u001b[0m\u001b[37m\u001b[0m \u001b[1m0s\u001b[0m 69ms/step - accuracy: 0.3810 - loss: 1.0612 - val_accuracy: 0.3333 - val_loss: 1.5434\n",
            "Epoch 53/100\n",
            "\u001b[1m1/1\u001b[0m \u001b[32m━━━━━━━━━━━━━━━━━━━━\u001b[0m\u001b[37m\u001b[0m \u001b[1m0s\u001b[0m 66ms/step - accuracy: 0.5714 - loss: 1.0307 - val_accuracy: 0.3333 - val_loss: 1.5444\n",
            "Epoch 54/100\n",
            "\u001b[1m1/1\u001b[0m \u001b[32m━━━━━━━━━━━━━━━━━━━━\u001b[0m\u001b[37m\u001b[0m \u001b[1m0s\u001b[0m 67ms/step - accuracy: 0.5714 - loss: 1.0001 - val_accuracy: 0.3333 - val_loss: 1.5452\n",
            "Epoch 55/100\n",
            "\u001b[1m1/1\u001b[0m \u001b[32m━━━━━━━━━━━━━━━━━━━━\u001b[0m\u001b[37m\u001b[0m \u001b[1m0s\u001b[0m 64ms/step - accuracy: 0.6667 - loss: 1.0144 - val_accuracy: 0.3333 - val_loss: 1.5470\n",
            "Epoch 56/100\n",
            "\u001b[1m1/1\u001b[0m \u001b[32m━━━━━━━━━━━━━━━━━━━━\u001b[0m\u001b[37m\u001b[0m \u001b[1m0s\u001b[0m 148ms/step - accuracy: 0.6667 - loss: 0.9829 - val_accuracy: 0.3333 - val_loss: 1.5483\n",
            "Epoch 57/100\n",
            "\u001b[1m1/1\u001b[0m \u001b[32m━━━━━━━━━━━━━━━━━━━━\u001b[0m\u001b[37m\u001b[0m \u001b[1m0s\u001b[0m 126ms/step - accuracy: 0.5238 - loss: 0.9242 - val_accuracy: 0.3333 - val_loss: 1.5514\n",
            "Epoch 58/100\n",
            "\u001b[1m1/1\u001b[0m \u001b[32m━━━━━━━━━━━━━━━━━━━━\u001b[0m\u001b[37m\u001b[0m \u001b[1m0s\u001b[0m 150ms/step - accuracy: 0.6667 - loss: 0.9590 - val_accuracy: 0.3333 - val_loss: 1.5569\n",
            "Epoch 59/100\n",
            "\u001b[1m1/1\u001b[0m \u001b[32m━━━━━━━━━━━━━━━━━━━━\u001b[0m\u001b[37m\u001b[0m \u001b[1m0s\u001b[0m 82ms/step - accuracy: 0.6190 - loss: 0.9187 - val_accuracy: 0.3333 - val_loss: 1.5620\n",
            "Epoch 60/100\n",
            "\u001b[1m1/1\u001b[0m \u001b[32m━━━━━━━━━━━━━━━━━━━━\u001b[0m\u001b[37m\u001b[0m \u001b[1m0s\u001b[0m 76ms/step - accuracy: 0.7143 - loss: 0.8926 - val_accuracy: 0.3333 - val_loss: 1.5689\n",
            "Epoch 61/100\n",
            "\u001b[1m1/1\u001b[0m \u001b[32m━━━━━━━━━━━━━━━━━━━━\u001b[0m\u001b[37m\u001b[0m \u001b[1m0s\u001b[0m 136ms/step - accuracy: 0.6667 - loss: 0.8629 - val_accuracy: 0.3333 - val_loss: 1.5770\n",
            "Epoch 62/100\n",
            "\u001b[1m1/1\u001b[0m \u001b[32m━━━━━━━━━━━━━━━━━━━━\u001b[0m\u001b[37m\u001b[0m \u001b[1m0s\u001b[0m 69ms/step - accuracy: 0.7619 - loss: 0.8561 - val_accuracy: 0.3333 - val_loss: 1.5854\n",
            "Epoch 63/100\n",
            "\u001b[1m1/1\u001b[0m \u001b[32m━━━━━━━━━━━━━━━━━━━━\u001b[0m\u001b[37m\u001b[0m \u001b[1m0s\u001b[0m 65ms/step - accuracy: 0.7143 - loss: 0.8244 - val_accuracy: 0.3333 - val_loss: 1.5938\n",
            "Epoch 64/100\n",
            "\u001b[1m1/1\u001b[0m \u001b[32m━━━━━━━━━━━━━━━━━━━━\u001b[0m\u001b[37m\u001b[0m \u001b[1m0s\u001b[0m 68ms/step - accuracy: 0.6190 - loss: 0.8965 - val_accuracy: 0.3333 - val_loss: 1.6013\n",
            "Epoch 65/100\n",
            "\u001b[1m1/1\u001b[0m \u001b[32m━━━━━━━━━━━━━━━━━━━━\u001b[0m\u001b[37m\u001b[0m \u001b[1m0s\u001b[0m 70ms/step - accuracy: 0.8095 - loss: 0.7874 - val_accuracy: 0.3333 - val_loss: 1.6096\n",
            "Epoch 66/100\n",
            "\u001b[1m1/1\u001b[0m \u001b[32m━━━━━━━━━━━━━━━━━━━━\u001b[0m\u001b[37m\u001b[0m \u001b[1m0s\u001b[0m 80ms/step - accuracy: 0.7143 - loss: 0.8571 - val_accuracy: 0.3333 - val_loss: 1.6156\n",
            "Epoch 67/100\n",
            "\u001b[1m1/1\u001b[0m \u001b[32m━━━━━━━━━━━━━━━━━━━━\u001b[0m\u001b[37m\u001b[0m \u001b[1m0s\u001b[0m 92ms/step - accuracy: 0.7143 - loss: 0.8262 - val_accuracy: 0.5000 - val_loss: 1.6201\n",
            "Epoch 68/100\n",
            "\u001b[1m1/1\u001b[0m \u001b[32m━━━━━━━━━━━━━━━━━━━━\u001b[0m\u001b[37m\u001b[0m \u001b[1m0s\u001b[0m 78ms/step - accuracy: 0.8095 - loss: 0.7226 - val_accuracy: 0.5000 - val_loss: 1.6250\n",
            "Epoch 69/100\n",
            "\u001b[1m1/1\u001b[0m \u001b[32m━━━━━━━━━━━━━━━━━━━━\u001b[0m\u001b[37m\u001b[0m \u001b[1m0s\u001b[0m 68ms/step - accuracy: 0.8095 - loss: 0.6659 - val_accuracy: 0.6667 - val_loss: 1.6309\n",
            "Epoch 70/100\n",
            "\u001b[1m1/1\u001b[0m \u001b[32m━━━━━━━━━━━━━━━━━━━━\u001b[0m\u001b[37m\u001b[0m \u001b[1m0s\u001b[0m 75ms/step - accuracy: 0.7619 - loss: 0.6518 - val_accuracy: 0.3333 - val_loss: 1.6387\n",
            "Epoch 71/100\n",
            "\u001b[1m1/1\u001b[0m \u001b[32m━━━━━━━━━━━━━━━━━━━━\u001b[0m\u001b[37m\u001b[0m \u001b[1m0s\u001b[0m 139ms/step - accuracy: 0.8095 - loss: 0.7252 - val_accuracy: 0.3333 - val_loss: 1.6451\n",
            "Epoch 72/100\n",
            "\u001b[1m1/1\u001b[0m \u001b[32m━━━━━━━━━━━━━━━━━━━━\u001b[0m\u001b[37m\u001b[0m \u001b[1m0s\u001b[0m 68ms/step - accuracy: 0.8095 - loss: 0.5413 - val_accuracy: 0.3333 - val_loss: 1.6562\n",
            "Epoch 73/100\n",
            "\u001b[1m1/1\u001b[0m \u001b[32m━━━━━━━━━━━━━━━━━━━━\u001b[0m\u001b[37m\u001b[0m \u001b[1m0s\u001b[0m 72ms/step - accuracy: 0.8095 - loss: 0.5607 - val_accuracy: 0.3333 - val_loss: 1.6669\n",
            "Epoch 74/100\n",
            "\u001b[1m1/1\u001b[0m \u001b[32m━━━━━━━━━━━━━━━━━━━━\u001b[0m\u001b[37m\u001b[0m \u001b[1m0s\u001b[0m 72ms/step - accuracy: 0.8095 - loss: 0.6024 - val_accuracy: 0.3333 - val_loss: 1.6731\n",
            "Epoch 75/100\n",
            "\u001b[1m1/1\u001b[0m \u001b[32m━━━━━━━━━━━━━━━━━━━━\u001b[0m\u001b[37m\u001b[0m \u001b[1m0s\u001b[0m 68ms/step - accuracy: 0.8095 - loss: 0.5794 - val_accuracy: 0.3333 - val_loss: 1.6765\n",
            "Epoch 76/100\n",
            "\u001b[1m1/1\u001b[0m \u001b[32m━━━━━━━━━━━━━━━━━━━━\u001b[0m\u001b[37m\u001b[0m \u001b[1m0s\u001b[0m 143ms/step - accuracy: 0.8095 - loss: 0.4910 - val_accuracy: 0.3333 - val_loss: 1.6793\n",
            "Epoch 77/100\n",
            "\u001b[1m1/1\u001b[0m \u001b[32m━━━━━━━━━━━━━━━━━━━━\u001b[0m\u001b[37m\u001b[0m \u001b[1m0s\u001b[0m 102ms/step - accuracy: 0.8095 - loss: 0.4686 - val_accuracy: 0.3333 - val_loss: 1.6781\n",
            "Epoch 78/100\n",
            "\u001b[1m1/1\u001b[0m \u001b[32m━━━━━━━━━━━━━━━━━━━━\u001b[0m\u001b[37m\u001b[0m \u001b[1m0s\u001b[0m 85ms/step - accuracy: 0.8095 - loss: 0.4072 - val_accuracy: 0.3333 - val_loss: 1.6762\n",
            "Epoch 79/100\n",
            "\u001b[1m1/1\u001b[0m \u001b[32m━━━━━━━━━━━━━━━━━━━━\u001b[0m\u001b[37m\u001b[0m \u001b[1m0s\u001b[0m 132ms/step - accuracy: 0.8095 - loss: 0.4618 - val_accuracy: 0.3333 - val_loss: 1.6708\n",
            "Epoch 80/100\n",
            "\u001b[1m1/1\u001b[0m \u001b[32m━━━━━━━━━━━━━━━━━━━━\u001b[0m\u001b[37m\u001b[0m \u001b[1m0s\u001b[0m 141ms/step - accuracy: 0.8095 - loss: 0.3904 - val_accuracy: 0.5000 - val_loss: 1.6684\n",
            "Epoch 81/100\n",
            "\u001b[1m1/1\u001b[0m \u001b[32m━━━━━━━━━━━━━━━━━━━━\u001b[0m\u001b[37m\u001b[0m \u001b[1m0s\u001b[0m 67ms/step - accuracy: 0.8095 - loss: 0.4340 - val_accuracy: 0.6667 - val_loss: 1.6612\n",
            "Epoch 82/100\n",
            "\u001b[1m1/1\u001b[0m \u001b[32m━━━━━━━━━━━━━━━━━━━━\u001b[0m\u001b[37m\u001b[0m \u001b[1m0s\u001b[0m 67ms/step - accuracy: 0.8095 - loss: 0.4033 - val_accuracy: 0.6667 - val_loss: 1.6545\n",
            "Epoch 83/100\n",
            "\u001b[1m1/1\u001b[0m \u001b[32m━━━━━━━━━━━━━━━━━━━━\u001b[0m\u001b[37m\u001b[0m \u001b[1m0s\u001b[0m 72ms/step - accuracy: 0.8095 - loss: 0.4025 - val_accuracy: 0.6667 - val_loss: 1.6512\n",
            "Epoch 84/100\n",
            "\u001b[1m1/1\u001b[0m \u001b[32m━━━━━━━━━━━━━━━━━━━━\u001b[0m\u001b[37m\u001b[0m \u001b[1m0s\u001b[0m 66ms/step - accuracy: 0.8095 - loss: 0.3925 - val_accuracy: 0.6667 - val_loss: 1.6479\n",
            "Epoch 85/100\n",
            "\u001b[1m1/1\u001b[0m \u001b[32m━━━━━━━━━━━━━━━━━━━━\u001b[0m\u001b[37m\u001b[0m \u001b[1m0s\u001b[0m 68ms/step - accuracy: 0.8095 - loss: 0.3032 - val_accuracy: 0.6667 - val_loss: 1.6433\n",
            "Epoch 86/100\n",
            "\u001b[1m1/1\u001b[0m \u001b[32m━━━━━━━━━━━━━━━━━━━━\u001b[0m\u001b[37m\u001b[0m \u001b[1m0s\u001b[0m 64ms/step - accuracy: 0.8095 - loss: 0.3514 - val_accuracy: 0.6667 - val_loss: 1.6412\n",
            "Epoch 87/100\n",
            "\u001b[1m1/1\u001b[0m \u001b[32m━━━━━━━━━━━━━━━━━━━━\u001b[0m\u001b[37m\u001b[0m \u001b[1m0s\u001b[0m 74ms/step - accuracy: 0.8095 - loss: 0.2964 - val_accuracy: 0.6667 - val_loss: 1.6387\n",
            "Epoch 88/100\n",
            "\u001b[1m1/1\u001b[0m \u001b[32m━━━━━━━━━━━━━━━━━━━━\u001b[0m\u001b[37m\u001b[0m \u001b[1m0s\u001b[0m 139ms/step - accuracy: 0.8095 - loss: 0.2839 - val_accuracy: 0.6667 - val_loss: 1.6393\n",
            "Epoch 89/100\n",
            "\u001b[1m1/1\u001b[0m \u001b[32m━━━━━━━━━━━━━━━━━━━━\u001b[0m\u001b[37m\u001b[0m \u001b[1m0s\u001b[0m 68ms/step - accuracy: 0.8571 - loss: 0.3022 - val_accuracy: 0.6667 - val_loss: 1.6423\n",
            "Epoch 90/100\n",
            "\u001b[1m1/1\u001b[0m \u001b[32m━━━━━━━━━━━━━━━━━━━━\u001b[0m\u001b[37m\u001b[0m \u001b[1m0s\u001b[0m 70ms/step - accuracy: 0.8095 - loss: 0.2939 - val_accuracy: 0.6667 - val_loss: 1.6478\n",
            "Epoch 91/100\n",
            "\u001b[1m1/1\u001b[0m \u001b[32m━━━━━━━━━━━━━━━━━━━━\u001b[0m\u001b[37m\u001b[0m \u001b[1m0s\u001b[0m 136ms/step - accuracy: 0.8571 - loss: 0.2918 - val_accuracy: 0.5000 - val_loss: 1.6487\n",
            "Epoch 92/100\n",
            "\u001b[1m1/1\u001b[0m \u001b[32m━━━━━━━━━━━━━━━━━━━━\u001b[0m\u001b[37m\u001b[0m \u001b[1m0s\u001b[0m 66ms/step - accuracy: 0.8571 - loss: 0.2739 - val_accuracy: 0.5000 - val_loss: 1.6481\n",
            "Epoch 93/100\n",
            "\u001b[1m1/1\u001b[0m \u001b[32m━━━━━━━━━━━━━━━━━━━━\u001b[0m\u001b[37m\u001b[0m \u001b[1m0s\u001b[0m 65ms/step - accuracy: 0.8571 - loss: 0.2535 - val_accuracy: 0.6667 - val_loss: 1.6422\n",
            "Epoch 94/100\n",
            "\u001b[1m1/1\u001b[0m \u001b[32m━━━━━━━━━━━━━━━━━━━━\u001b[0m\u001b[37m\u001b[0m \u001b[1m0s\u001b[0m 71ms/step - accuracy: 0.9048 - loss: 0.2355 - val_accuracy: 0.6667 - val_loss: 1.6386\n",
            "Epoch 95/100\n",
            "\u001b[1m1/1\u001b[0m \u001b[32m━━━━━━━━━━━━━━━━━━━━\u001b[0m\u001b[37m\u001b[0m \u001b[1m0s\u001b[0m 132ms/step - accuracy: 0.8095 - loss: 0.2515 - val_accuracy: 0.6667 - val_loss: 1.6302\n",
            "Epoch 96/100\n",
            "\u001b[1m1/1\u001b[0m \u001b[32m━━━━━━━━━━━━━━━━━━━━\u001b[0m\u001b[37m\u001b[0m \u001b[1m0s\u001b[0m 67ms/step - accuracy: 0.9048 - loss: 0.2522 - val_accuracy: 0.6667 - val_loss: 1.6242\n",
            "Epoch 97/100\n",
            "\u001b[1m1/1\u001b[0m \u001b[32m━━━━━━━━━━━━━━━━━━━━\u001b[0m\u001b[37m\u001b[0m \u001b[1m0s\u001b[0m 68ms/step - accuracy: 0.9048 - loss: 0.2343 - val_accuracy: 0.6667 - val_loss: 1.6206\n",
            "Epoch 98/100\n",
            "\u001b[1m1/1\u001b[0m \u001b[32m━━━━━━━━━━━━━━━━━━━━\u001b[0m\u001b[37m\u001b[0m \u001b[1m0s\u001b[0m 88ms/step - accuracy: 0.9524 - loss: 0.2232 - val_accuracy: 0.6667 - val_loss: 1.6191\n",
            "Epoch 99/100\n",
            "\u001b[1m1/1\u001b[0m \u001b[32m━━━━━━━━━━━━━━━━━━━━\u001b[0m\u001b[37m\u001b[0m \u001b[1m0s\u001b[0m 89ms/step - accuracy: 0.9524 - loss: 0.1977 - val_accuracy: 0.6667 - val_loss: 1.6207\n",
            "Epoch 100/100\n",
            "\u001b[1m1/1\u001b[0m \u001b[32m━━━━━━━━━━━━━━━━━━━━\u001b[0m\u001b[37m\u001b[0m \u001b[1m0s\u001b[0m 146ms/step - accuracy: 0.9048 - loss: 0.2220 - val_accuracy: 0.6667 - val_loss: 1.6241\n"
          ]
        },
        {
          "output_type": "execute_result",
          "data": {
            "text/plain": [
              "<keras.src.callbacks.history.History at 0x7c5304160e50>"
            ]
          },
          "metadata": {},
          "execution_count": 137
        }
      ]
    },
    {
      "cell_type": "markdown",
      "source": [
        "Prediction"
      ],
      "metadata": {
        "id": "XoHiFlV0U5Hv"
      }
    },
    {
      "cell_type": "code",
      "source": [
        "\n",
        "def predict_sentiment(input_text):\n",
        "    # Preprocess the input text\n",
        "    input_sequence = tokenizer.texts_to_sequences([input_text])\n",
        "    input_padded = pad_sequences(input_sequence, maxlen=max_length, padding='post')\n",
        "\n",
        "    # Make a prediction\n",
        "    prediction = model.predict(input_padded)\n",
        "\n",
        "    # Get the predicted class (index)\n",
        "    predicted_class_index = np.argmax(prediction, axis=1)[0]\n",
        "\n",
        "    # Decode back to original label\n",
        "    predicted_label = label_encoder.inverse_transform([predicted_class_index])[0]\n",
        "\n",
        "    return predicted_label\n",
        "\n",
        "\n",
        "input_text = \"यो फिल्मले मलाई निराश बनायो।\"\n",
        "predicted_sentiment = predict_sentiment(input_text)\n",
        "print(f\"The predicted sentiment for the input text is: {predicted_sentiment}\")\n"
      ],
      "metadata": {
        "colab": {
          "base_uri": "https://localhost:8080/"
        },
        "id": "ljI8bzEqT2x3",
        "outputId": "fc1e4411-6381-4071-cb89-3c5a9dab13a8"
      },
      "execution_count": 129,
      "outputs": [
        {
          "output_type": "stream",
          "name": "stdout",
          "text": [
            "\u001b[1m1/1\u001b[0m \u001b[32m━━━━━━━━━━━━━━━━━━━━\u001b[0m\u001b[37m\u001b[0m \u001b[1m0s\u001b[0m 23ms/step\n",
            "The predicted sentiment for the input text is: negative\n"
          ]
        }
      ]
    },
    {
      "cell_type": "code",
      "source": [],
      "metadata": {
        "id": "odoIgt0fT2hm"
      },
      "execution_count": null,
      "outputs": []
    }
  ]
}